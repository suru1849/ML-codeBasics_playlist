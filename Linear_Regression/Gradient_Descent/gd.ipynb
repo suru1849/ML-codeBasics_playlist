{
 "cells": [
  {
   "cell_type": "code",
   "execution_count": 72,
   "metadata": {},
   "outputs": [],
   "source": [
    "import numpy as np"
   ]
  },
  {
   "cell_type": "code",
   "execution_count": 73,
   "metadata": {},
   "outputs": [],
   "source": [
    "def gradient_descent(x,y):\n",
    "    m_curr = b_curr = 0\n",
    "    # y = m*x + b\n",
    "    itteration = 10000\n",
    "    n = len(x)\n",
    "    learning_rate = 0.08\n",
    "    \n",
    "    for i in range(itteration):\n",
    "        y_predicted = m_curr * x + b_curr\n",
    "        # List comprehension\n",
    "        cost = (1/n)*sum([val**2 for val in (y_predicted - y)])\n",
    "        # print('from for x: ', x)\n",
    "        # print('from for y: ', y)\n",
    "        # print('from for y_predict: ', y_predicted)\n",
    "        md = (2/n)*sum(x*(y_predicted - y))\n",
    "        bd = (2/n)*sum(y_predicted - y)\n",
    "        m_curr = m_curr - learning_rate * md\n",
    "        b_curr = b_curr - learning_rate * bd\n",
    "        print(\"m : {} , b : {} , cost : {} , iteration : {}\".format(m_curr, b_curr, cost, i))\n",
    "        "
   ]
  },
  {
   "cell_type": "code",
   "execution_count": 74,
   "metadata": {},
   "outputs": [],
   "source": [
    "x = np.array([1,2,3,4,5])\n",
    "y = np.array([5,7,9,11,13])"
   ]
  },
  {
   "cell_type": "code",
   "execution_count": 75,
   "metadata": {},
   "outputs": [
    {
     "name": "stdout",
     "output_type": "stream",
     "text": [
      "m : 4.96 , b : 1.44 , cost : 89.0 , iteration : 0\n",
      "m : 0.4991999999999983 , b : 0.26879999999999993 , cost : 71.10560000000002 , iteration : 1\n",
      "m : 4.451584000000002 , b : 1.426176000000001 , cost : 56.8297702400001 , iteration : 2\n",
      "m : 0.892231679999997 , b : 0.5012275199999995 , cost : 45.43965675929613 , iteration : 3\n",
      "m : 4.041314713600002 , b : 1.432759910400001 , cost : 36.35088701894832 , iteration : 4\n",
      "m : 1.2008760606719973 , b : 0.7036872622079998 , cost : 29.097483330142282 , iteration : 5\n",
      "m : 3.7095643080294423 , b : 1.4546767911321612 , cost : 23.307872849944438 , iteration : 6\n",
      "m : 1.4424862661541864 , b : 0.881337636696883 , cost : 18.685758762535738 , iteration : 7\n",
      "m : 3.4406683721083144 , b : 1.4879302070713722 , cost : 14.994867596913156 , iteration : 8\n",
      "m : 1.6308855378034224 , b : 1.0383405553279617 , cost : 12.046787238456794 , iteration : 9\n"
     ]
    }
   ],
   "source": [
    "gradient_descent(x,y)"
   ]
  }
 ],
 "metadata": {
  "kernelspec": {
   "display_name": "myenv",
   "language": "python",
   "name": "python3"
  },
  "language_info": {
   "codemirror_mode": {
    "name": "ipython",
    "version": 3
   },
   "file_extension": ".py",
   "mimetype": "text/x-python",
   "name": "python",
   "nbconvert_exporter": "python",
   "pygments_lexer": "ipython3",
   "version": "3.12.3"
  }
 },
 "nbformat": 4,
 "nbformat_minor": 2
}
